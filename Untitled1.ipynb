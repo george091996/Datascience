{
 "cells": [
  {
   "cell_type": "code",
   "execution_count": 6,
   "id": "89307182",
   "metadata": {},
   "outputs": [
    {
     "name": "stdout",
     "output_type": "stream",
     "text": [
      "George Meshak\n"
     ]
    }
   ],
   "source": [
    "print(\"George Meshak\")"
   ]
  },
  {
   "cell_type": "code",
   "execution_count": 2,
   "id": "eac1afd7",
   "metadata": {},
   "outputs": [
    {
     "data": {
      "text/plain": [
       "25"
      ]
     },
     "execution_count": 2,
     "metadata": {},
     "output_type": "execute_result"
    }
   ],
   "source": [
    "10+15"
   ]
  },
  {
   "cell_type": "code",
   "execution_count": null,
   "id": "ae9f016e",
   "metadata": {},
   "outputs": [],
   "source": []
  },
  {
   "cell_type": "code",
   "execution_count": 8,
   "id": "6f77704a",
   "metadata": {},
   "outputs": [
    {
     "data": {
      "text/plain": [
       "100"
      ]
     },
     "execution_count": 8,
     "metadata": {},
     "output_type": "execute_result"
    }
   ],
   "source": [
    "10*10"
   ]
  },
  {
   "cell_type": "code",
   "execution_count": 7,
   "id": "4badfab7",
   "metadata": {},
   "outputs": [
    {
     "data": {
      "text/plain": [
       "22.0"
      ]
     },
     "execution_count": 7,
     "metadata": {},
     "output_type": "execute_result"
    }
   ],
   "source": [
    "110/5"
   ]
  },
  {
   "cell_type": "code",
   "execution_count": null,
   "id": "3e0bfda2",
   "metadata": {},
   "outputs": [],
   "source": [
    "to execute the code - ctrl+enter, shift+enter"
   ]
  },
  {
   "cell_type": "markdown",
   "id": "f2652d62",
   "metadata": {},
   "source": [
    "hay cool buddy"
   ]
  },
  {
   "cell_type": "markdown",
   "id": "f0f1ebd5",
   "metadata": {},
   "source": [
    "Hi George, how is your day"
   ]
  },
  {
   "cell_type": "code",
   "execution_count": null,
   "id": "043353da",
   "metadata": {},
   "outputs": [],
   "source": []
  }
 ],
 "metadata": {
  "kernelspec": {
   "display_name": "Python 3 (ipykernel)",
   "language": "python",
   "name": "python3"
  },
  "language_info": {
   "codemirror_mode": {
    "name": "ipython",
    "version": 3
   },
   "file_extension": ".py",
   "mimetype": "text/x-python",
   "name": "python",
   "nbconvert_exporter": "python",
   "pygments_lexer": "ipython3",
   "version": "3.11.5"
  }
 },
 "nbformat": 4,
 "nbformat_minor": 5
}
